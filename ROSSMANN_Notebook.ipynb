{
  "cells": [
    {
      "cell_type": "code",
      "execution_count": null,
      "id": "desirable-mercy",
      "metadata": {
        "id": "desirable-mercy"
      },
      "outputs": [],
      "source": [
        ""
      ]
    },
    {
      "cell_type": "code",
      "execution_count": null,
      "id": "olympic-lawrence",
      "metadata": {
        "id": "olympic-lawrence"
      },
      "outputs": [],
      "source": [
        "import pandas as pd\n",
        "import numpy as np\n",
        "\n",
        "%matplotlib inline\n",
        "import matplotlib.pyplot as plt\n",
        "\n",
        "import seaborn as sns\n",
        "\n",
        "from sklearn.preprocessing import OneHotEncoder, LabelEncoder\n",
        "from sklearn.model_selection import train_test_split\n",
        "\n",
        "from keras.models import Sequential\n",
        "from keras.layers import Dense, Dropout\n",
        "from keras.callbacks import History"
      ]
    },
    {
      "cell_type": "markdown",
      "id": "13b2945f",
      "metadata": {
        "id": "13b2945f"
      },
      "source": [
        "We need only two datasets for this use case: **train.csv** and **store.csv** datasets. <br>Import these datasets after downloading them from www.kaggle.com/c/rossmann-store-sales/data"
      ]
    },
    {
      "cell_type": "code",
      "execution_count": null,
      "id": "earned-lunch",
      "metadata": {
        "id": "earned-lunch"
      },
      "outputs": [],
      "source": [
        "train_df = pd.read_csv('train.csv', low_memory=False)\n",
        "store = pd.read_csv('store.csv')"
      ]
    },
    {
      "cell_type": "markdown",
      "id": "72c4b0cb",
      "metadata": {
        "id": "72c4b0cb"
      },
      "source": [
        "## Shape of the datasets"
      ]
    },
    {
      "cell_type": "code",
      "execution_count": null,
      "id": "3f14ebff",
      "metadata": {
        "id": "3f14ebff",
        "outputId": "e52ce529-07c2-404b-e725-74ab4c39fa9d"
      },
      "outputs": [
        {
          "name": "stdout",
          "output_type": "stream",
          "text": [
            "Shape of train dataset:  (1017209, 9)\n",
            "Shape of store dataset:  (1115, 10)\n"
          ]
        }
      ],
      "source": [
        "#DISPLAY SHAPE OF THE DATASETS\n",
        "\n",
        "print ('Shape of train dataset: ', train_df.shape)\n",
        "print ('Shape of store dataset: ', store.shape)"
      ]
    },
    {
      "cell_type": "code",
      "execution_count": null,
      "id": "31eb5a5d",
      "metadata": {
        "scrolled": false,
        "id": "31eb5a5d",
        "outputId": "3b447799-dc4c-4fd1-cd0d-05dee7f6b1d4"
      },
      "outputs": [
        {
          "data": {
            "text/html": [
              "<div>\n",
              "<style scoped>\n",
              "    .dataframe tbody tr th:only-of-type {\n",
              "        vertical-align: middle;\n",
              "    }\n",
              "\n",
              "    .dataframe tbody tr th {\n",
              "        vertical-align: top;\n",
              "    }\n",
              "\n",
              "    .dataframe thead th {\n",
              "        text-align: right;\n",
              "    }\n",
              "</style>\n",
              "<table border=\"1\" class=\"dataframe\">\n",
              "  <thead>\n",
              "    <tr style=\"text-align: right;\">\n",
              "      <th></th>\n",
              "      <th>Store</th>\n",
              "      <th>DayOfWeek</th>\n",
              "      <th>Date</th>\n",
              "      <th>Sales</th>\n",
              "      <th>Customers</th>\n",
              "      <th>Open</th>\n",
              "      <th>Promo</th>\n",
              "      <th>StateHoliday</th>\n",
              "      <th>SchoolHoliday</th>\n",
              "    </tr>\n",
              "  </thead>\n",
              "  <tbody>\n",
              "    <tr>\n",
              "      <th>0</th>\n",
              "      <td>1</td>\n",
              "      <td>5</td>\n",
              "      <td>2015-07-31</td>\n",
              "      <td>5263</td>\n",
              "      <td>555</td>\n",
              "      <td>1</td>\n",
              "      <td>1</td>\n",
              "      <td>0</td>\n",
              "      <td>1</td>\n",
              "    </tr>\n",
              "    <tr>\n",
              "      <th>1</th>\n",
              "      <td>2</td>\n",
              "      <td>5</td>\n",
              "      <td>2015-07-31</td>\n",
              "      <td>6064</td>\n",
              "      <td>625</td>\n",
              "      <td>1</td>\n",
              "      <td>1</td>\n",
              "      <td>0</td>\n",
              "      <td>1</td>\n",
              "    </tr>\n",
              "    <tr>\n",
              "      <th>2</th>\n",
              "      <td>3</td>\n",
              "      <td>5</td>\n",
              "      <td>2015-07-31</td>\n",
              "      <td>8314</td>\n",
              "      <td>821</td>\n",
              "      <td>1</td>\n",
              "      <td>1</td>\n",
              "      <td>0</td>\n",
              "      <td>1</td>\n",
              "    </tr>\n",
              "    <tr>\n",
              "      <th>3</th>\n",
              "      <td>4</td>\n",
              "      <td>5</td>\n",
              "      <td>2015-07-31</td>\n",
              "      <td>13995</td>\n",
              "      <td>1498</td>\n",
              "      <td>1</td>\n",
              "      <td>1</td>\n",
              "      <td>0</td>\n",
              "      <td>1</td>\n",
              "    </tr>\n",
              "    <tr>\n",
              "      <th>4</th>\n",
              "      <td>5</td>\n",
              "      <td>5</td>\n",
              "      <td>2015-07-31</td>\n",
              "      <td>4822</td>\n",
              "      <td>559</td>\n",
              "      <td>1</td>\n",
              "      <td>1</td>\n",
              "      <td>0</td>\n",
              "      <td>1</td>\n",
              "    </tr>\n",
              "  </tbody>\n",
              "</table>\n",
              "</div>"
            ],
            "text/plain": [
              "   Store  DayOfWeek        Date  Sales  Customers  Open  Promo StateHoliday  \\\n",
              "0      1          5  2015-07-31   5263        555     1      1            0   \n",
              "1      2          5  2015-07-31   6064        625     1      1            0   \n",
              "2      3          5  2015-07-31   8314        821     1      1            0   \n",
              "3      4          5  2015-07-31  13995       1498     1      1            0   \n",
              "4      5          5  2015-07-31   4822        559     1      1            0   \n",
              "\n",
              "   SchoolHoliday  \n",
              "0              1  \n",
              "1              1  \n",
              "2              1  \n",
              "3              1  \n",
              "4              1  "
            ]
          },
          "execution_count": 9,
          "metadata": {},
          "output_type": "execute_result"
        }
      ],
      "source": [
        "# DISPLAY SOME DATA FROM THE TRAIN DATASET\n",
        "train_df.head()"
      ]
    },
    {
      "cell_type": "code",
      "execution_count": null,
      "id": "386ebb91",
      "metadata": {
        "scrolled": true,
        "id": "386ebb91",
        "outputId": "571da324-2a65-428d-89c9-2efa529261f1"
      },
      "outputs": [
        {
          "data": {
            "text/html": [
              "<div>\n",
              "<style scoped>\n",
              "    .dataframe tbody tr th:only-of-type {\n",
              "        vertical-align: middle;\n",
              "    }\n",
              "\n",
              "    .dataframe tbody tr th {\n",
              "        vertical-align: top;\n",
              "    }\n",
              "\n",
              "    .dataframe thead th {\n",
              "        text-align: right;\n",
              "    }\n",
              "</style>\n",
              "<table border=\"1\" class=\"dataframe\">\n",
              "  <thead>\n",
              "    <tr style=\"text-align: right;\">\n",
              "      <th></th>\n",
              "      <th>Store</th>\n",
              "      <th>StoreType</th>\n",
              "      <th>Assortment</th>\n",
              "      <th>CompetitionDistance</th>\n",
              "      <th>CompetitionOpenSinceMonth</th>\n",
              "      <th>CompetitionOpenSinceYear</th>\n",
              "      <th>Promo2</th>\n",
              "      <th>Promo2SinceWeek</th>\n",
              "      <th>Promo2SinceYear</th>\n",
              "      <th>PromoInterval</th>\n",
              "    </tr>\n",
              "  </thead>\n",
              "  <tbody>\n",
              "    <tr>\n",
              "      <th>0</th>\n",
              "      <td>1</td>\n",
              "      <td>c</td>\n",
              "      <td>a</td>\n",
              "      <td>1270.0</td>\n",
              "      <td>9.0</td>\n",
              "      <td>2008.0</td>\n",
              "      <td>0</td>\n",
              "      <td>NaN</td>\n",
              "      <td>NaN</td>\n",
              "      <td>NaN</td>\n",
              "    </tr>\n",
              "    <tr>\n",
              "      <th>1</th>\n",
              "      <td>2</td>\n",
              "      <td>a</td>\n",
              "      <td>a</td>\n",
              "      <td>570.0</td>\n",
              "      <td>11.0</td>\n",
              "      <td>2007.0</td>\n",
              "      <td>1</td>\n",
              "      <td>13.0</td>\n",
              "      <td>2010.0</td>\n",
              "      <td>Jan,Apr,Jul,Oct</td>\n",
              "    </tr>\n",
              "    <tr>\n",
              "      <th>2</th>\n",
              "      <td>3</td>\n",
              "      <td>a</td>\n",
              "      <td>a</td>\n",
              "      <td>14130.0</td>\n",
              "      <td>12.0</td>\n",
              "      <td>2006.0</td>\n",
              "      <td>1</td>\n",
              "      <td>14.0</td>\n",
              "      <td>2011.0</td>\n",
              "      <td>Jan,Apr,Jul,Oct</td>\n",
              "    </tr>\n",
              "    <tr>\n",
              "      <th>3</th>\n",
              "      <td>4</td>\n",
              "      <td>c</td>\n",
              "      <td>c</td>\n",
              "      <td>620.0</td>\n",
              "      <td>9.0</td>\n",
              "      <td>2009.0</td>\n",
              "      <td>0</td>\n",
              "      <td>NaN</td>\n",
              "      <td>NaN</td>\n",
              "      <td>NaN</td>\n",
              "    </tr>\n",
              "    <tr>\n",
              "      <th>4</th>\n",
              "      <td>5</td>\n",
              "      <td>a</td>\n",
              "      <td>a</td>\n",
              "      <td>29910.0</td>\n",
              "      <td>4.0</td>\n",
              "      <td>2015.0</td>\n",
              "      <td>0</td>\n",
              "      <td>NaN</td>\n",
              "      <td>NaN</td>\n",
              "      <td>NaN</td>\n",
              "    </tr>\n",
              "  </tbody>\n",
              "</table>\n",
              "</div>"
            ],
            "text/plain": [
              "   Store StoreType Assortment  CompetitionDistance  CompetitionOpenSinceMonth  \\\n",
              "0      1         c          a               1270.0                        9.0   \n",
              "1      2         a          a                570.0                       11.0   \n",
              "2      3         a          a              14130.0                       12.0   \n",
              "3      4         c          c                620.0                        9.0   \n",
              "4      5         a          a              29910.0                        4.0   \n",
              "\n",
              "   CompetitionOpenSinceYear  Promo2  Promo2SinceWeek  Promo2SinceYear  \\\n",
              "0                    2008.0       0              NaN              NaN   \n",
              "1                    2007.0       1             13.0           2010.0   \n",
              "2                    2006.0       1             14.0           2011.0   \n",
              "3                    2009.0       0              NaN              NaN   \n",
              "4                    2015.0       0              NaN              NaN   \n",
              "\n",
              "     PromoInterval  \n",
              "0              NaN  \n",
              "1  Jan,Apr,Jul,Oct  \n",
              "2  Jan,Apr,Jul,Oct  \n",
              "3              NaN  \n",
              "4              NaN  "
            ]
          },
          "execution_count": 10,
          "metadata": {},
          "output_type": "execute_result"
        }
      ],
      "source": [
        "# DISPLAY SOME DATA FROM STORE DATASET\n",
        "store.head()"
      ]
    },
    {
      "cell_type": "markdown",
      "id": "d67a12fb",
      "metadata": {
        "id": "d67a12fb"
      },
      "source": [
        "As you can see, the train dataset has 1,017,209 rows and 9 columns. In the train dataset, we have data for stores on different days. We have the total sales for the particular day and a couple of additional attributes.\n",
        "<br>\n",
        "Likewise, the store dataset has 1115 rows and 10 columns. It gives us additional store attributes that describe store features like assortment type, presence of competition, and promotion-related attributes."
      ]
    },
    {
      "cell_type": "markdown",
      "id": "05808c03",
      "metadata": {
        "id": "05808c03"
      },
      "source": [
        "## Get all columns in the train and store datasets"
      ]
    },
    {
      "cell_type": "code",
      "execution_count": null,
      "id": "0e8d44d7",
      "metadata": {
        "id": "0e8d44d7",
        "outputId": "f676bdd0-95be-4b47-ea58-daef7988f6cc"
      },
      "outputs": [
        {
          "name": "stdout",
          "output_type": "stream",
          "text": [
            "Index(['Store', 'DayOfWeek', 'Date', 'Sales', 'Customers', 'Open', 'Promo',\n",
            "       'StateHoliday', 'SchoolHoliday'],\n",
            "      dtype='object')\n",
            "Index(['Store', 'StoreType', 'Assortment', 'CompetitionDistance',\n",
            "       'CompetitionOpenSinceMonth', 'CompetitionOpenSinceYear', 'Promo2',\n",
            "       'Promo2SinceWeek', 'Promo2SinceYear', 'PromoInterval'],\n",
            "      dtype='object')\n"
          ]
        }
      ],
      "source": [
        "# ALL COLUMNS IN THE TRAIN  AND STORE DATASET\n",
        "\n",
        "print (train_df.columns)\n",
        "print (store.columns)"
      ]
    },
    {
      "cell_type": "markdown",
      "id": "a7d1f635",
      "metadata": {
        "id": "a7d1f635"
      },
      "source": [
        "# Merge the two datasets\n",
        "To have all the data points together, create one single dataframe with the store and promotion features. Display shape of the dataframe"
      ]
    },
    {
      "cell_type": "code",
      "execution_count": null,
      "id": "engaged-angel",
      "metadata": {
        "id": "engaged-angel",
        "outputId": "5ef66c29-fda5-40bf-9f05-1b794b2c3328"
      },
      "outputs": [
        {
          "data": {
            "text/plain": [
              "(1017209, 18)"
            ]
          },
          "execution_count": 5,
          "metadata": {},
          "output_type": "execute_result"
        }
      ],
      "source": [
        "df_new = train_df.merge(store, on = ['Store'], how='inner')\n",
        "df_new.shape"
      ]
    },
    {
      "cell_type": "markdown",
      "id": "21e3691e",
      "metadata": {
        "id": "21e3691e"
      },
      "source": [
        "# EXPLORATORY DATA ANALYSIS"
      ]
    },
    {
      "cell_type": "markdown",
      "id": "ef37be33",
      "metadata": {
        "id": "ef37be33"
      },
      "source": [
        "Now that we have the data in a unified form, We will start by finding the number of unique stores in the data, the number of unique days for which we have data, and the average sales for all stores.\n"
      ]
    },
    {
      "cell_type": "code",
      "execution_count": null,
      "id": "aad1a75a",
      "metadata": {
        "id": "aad1a75a",
        "outputId": "113862ad-0190-46fd-a060-75e58f237327"
      },
      "outputs": [
        {
          "name": "stdout",
          "output_type": "stream",
          "text": [
            "Distinct number of Stores : 1115\n",
            "Distinct number of Days : 942\n",
            "Average daily sales of all stores :  5773.82\n"
          ]
        }
      ],
      "source": [
        "print(\"Distinct number of Stores :\", len(df_new[\"Store\"].unique()))\n",
        "print(\"Distinct number of Days :\", len(df_new[\"Date\"].unique()))\n",
        "print(\"Average daily sales of all stores : \",round(df_new[\"Sales\"].mean(),2))"
      ]
    },
    {
      "cell_type": "markdown",
      "id": "2037dcf1",
      "metadata": {
        "id": "2037dcf1"
      },
      "source": [
        "## Find data types"
      ]
    },
    {
      "cell_type": "code",
      "execution_count": null,
      "id": "3db7579b",
      "metadata": {
        "id": "3db7579b",
        "outputId": "bbcb9311-bb08-4e61-8bd2-de48e0626350"
      },
      "outputs": [
        {
          "data": {
            "text/plain": [
              "Store                          int64\n",
              "DayOfWeek                      int64\n",
              "Date                          object\n",
              "Sales                          int64\n",
              "Customers                      int64\n",
              "Open                           int64\n",
              "Promo                          int64\n",
              "StateHoliday                  object\n",
              "SchoolHoliday                  int64\n",
              "StoreType                     object\n",
              "Assortment                    object\n",
              "CompetitionDistance          float64\n",
              "CompetitionOpenSinceMonth    float64\n",
              "CompetitionOpenSinceYear     float64\n",
              "Promo2                         int64\n",
              "Promo2SinceWeek              float64\n",
              "Promo2SinceYear              float64\n",
              "PromoInterval                 object\n",
              "dtype: object"
            ]
          },
          "execution_count": 18,
          "metadata": {},
          "output_type": "execute_result"
        }
      ],
      "source": [
        "df_new.dtypes"
      ]
    },
    {
      "cell_type": "markdown",
      "id": "e0833140",
      "metadata": {
        "id": "e0833140"
      },
      "source": [
        "## Create More features from 'date' feature(column)"
      ]
    },
    {
      "cell_type": "markdown",
      "id": "8d364c91",
      "metadata": {
        "id": "8d364c91"
      },
      "source": [
        "### Working with Time"
      ]
    },
    {
      "cell_type": "markdown",
      "id": "7aff2528",
      "metadata": {
        "id": "7aff2528"
      },
      "source": [
        "We see a mix of data types here, mostly int and the rest as object or float. <br>\n",
        "Let’s create additional features that will help our model learn patterns better. We will create the week number, month, day, quarter, and year as features from the date variable. Similarly, since we are already creating time-related features, we can add a new feature based on climate and seasons. Considering that the stores are in Europe, we can refer to the standard season cycles and create a new season feature with values of Spring, Summer, Fall, and Winter."
      ]
    },
    {
      "cell_type": "code",
      "execution_count": null,
      "id": "identical-recipient",
      "metadata": {
        "id": "identical-recipient"
      },
      "outputs": [],
      "source": [
        "# Convert 'date' column to datetime\n",
        "df_new['Date']  = pd.to_datetime(df_new['Date'], infer_datetime_format=True) "
      ]
    },
    {
      "cell_type": "markdown",
      "id": "c6bdbf0f",
      "metadata": {
        "id": "c6bdbf0f"
      },
      "source": [
        "### Create Month, Year, Day, Week, Qyarter from the 'date' feature"
      ]
    },
    {
      "cell_type": "code",
      "execution_count": null,
      "id": "according-manhattan",
      "metadata": {
        "id": "according-manhattan"
      },
      "outputs": [],
      "source": [
        "df_new['Year']  = pd.DatetimeIndex(df_new['Date']).isocalendar().reset_index(drop = True).year\n",
        "df_new['Month'] = pd.DatetimeIndex(df_new['Date']).month\n",
        "df_new['Quarter'] = pd.DatetimeIndex(df_new['Date']).quarter\n",
        "df_new['Week'] = pd.DatetimeIndex(df_new['Date']).isocalendar().reset_index(drop = True).week\n",
        "df_new['Day'] = pd.DatetimeIndex(df_new['Date']).day"
      ]
    },
    {
      "cell_type": "markdown",
      "id": "e2f524db",
      "metadata": {
        "id": "e2f524db"
      },
      "source": [
        "### create a new 'Season' feature for Spring, Summer, Fall, Winter values"
      ]
    },
    {
      "cell_type": "code",
      "execution_count": null,
      "id": "c03b5085",
      "metadata": {
        "id": "c03b5085"
      },
      "outputs": [],
      "source": [
        "df_new['Season'] = np.where(df_new['Month'].isin([3,4,5]), 'Spring', \n",
        "                            np.where(df_new['Month'].isin([6,7,8]), 'Summer', \n",
        "                                     np.where(df_new['Month'].isin([9,10,11]), 'Fall', \n",
        "                                              np.where(df_new['Month'].isin([12,1,2]), 'Winter', 'None'))))"
      ]
    },
    {
      "cell_type": "markdown",
      "id": "67a664fd",
      "metadata": {
        "id": "67a664fd"
      },
      "source": [
        "### View Newly created featured only"
      ]
    },
    {
      "cell_type": "code",
      "execution_count": null,
      "id": "23745a02",
      "metadata": {
        "scrolled": true,
        "id": "23745a02",
        "outputId": "4ef1ddb1-b8db-410c-89e2-767669097375"
      },
      "outputs": [
        {
          "data": {
            "text/html": [
              "<div>\n",
              "<style scoped>\n",
              "    .dataframe tbody tr th:only-of-type {\n",
              "        vertical-align: middle;\n",
              "    }\n",
              "\n",
              "    .dataframe tbody tr th {\n",
              "        vertical-align: top;\n",
              "    }\n",
              "\n",
              "    .dataframe thead th {\n",
              "        text-align: right;\n",
              "    }\n",
              "</style>\n",
              "<table border=\"1\" class=\"dataframe\">\n",
              "  <thead>\n",
              "    <tr style=\"text-align: right;\">\n",
              "      <th></th>\n",
              "      <th>Date</th>\n",
              "      <th>Year</th>\n",
              "      <th>Month</th>\n",
              "      <th>Day</th>\n",
              "      <th>Week</th>\n",
              "      <th>Quarter</th>\n",
              "      <th>Season</th>\n",
              "    </tr>\n",
              "  </thead>\n",
              "  <tbody>\n",
              "    <tr>\n",
              "      <th>0</th>\n",
              "      <td>2015-07-31</td>\n",
              "      <td>2015</td>\n",
              "      <td>7</td>\n",
              "      <td>31</td>\n",
              "      <td>31</td>\n",
              "      <td>3</td>\n",
              "      <td>Summer</td>\n",
              "    </tr>\n",
              "    <tr>\n",
              "      <th>1</th>\n",
              "      <td>2015-07-30</td>\n",
              "      <td>2015</td>\n",
              "      <td>7</td>\n",
              "      <td>30</td>\n",
              "      <td>31</td>\n",
              "      <td>3</td>\n",
              "      <td>Summer</td>\n",
              "    </tr>\n",
              "    <tr>\n",
              "      <th>2</th>\n",
              "      <td>2015-07-29</td>\n",
              "      <td>2015</td>\n",
              "      <td>7</td>\n",
              "      <td>29</td>\n",
              "      <td>31</td>\n",
              "      <td>3</td>\n",
              "      <td>Summer</td>\n",
              "    </tr>\n",
              "    <tr>\n",
              "      <th>3</th>\n",
              "      <td>2015-07-28</td>\n",
              "      <td>2015</td>\n",
              "      <td>7</td>\n",
              "      <td>28</td>\n",
              "      <td>31</td>\n",
              "      <td>3</td>\n",
              "      <td>Summer</td>\n",
              "    </tr>\n",
              "    <tr>\n",
              "      <th>4</th>\n",
              "      <td>2015-07-27</td>\n",
              "      <td>2015</td>\n",
              "      <td>7</td>\n",
              "      <td>27</td>\n",
              "      <td>31</td>\n",
              "      <td>3</td>\n",
              "      <td>Summer</td>\n",
              "    </tr>\n",
              "  </tbody>\n",
              "</table>\n",
              "</div>"
            ],
            "text/plain": [
              "        Date  Year  Month  Day  Week  Quarter  Season\n",
              "0 2015-07-31  2015      7   31    31        3  Summer\n",
              "1 2015-07-30  2015      7   30    31        3  Summer\n",
              "2 2015-07-29  2015      7   29    31        3  Summer\n",
              "3 2015-07-28  2015      7   28    31        3  Summer\n",
              "4 2015-07-27  2015      7   27    31        3  Summer"
            ]
          },
          "execution_count": 33,
          "metadata": {},
          "output_type": "execute_result"
        }
      ],
      "source": [
        "df_new[[\"Date\",\"Year\",\"Month\",\"Day\",\"Week\",\"Quarter\",\"Season\"]].head()"
      ]
    },
    {
      "cell_type": "markdown",
      "id": "5657943f",
      "metadata": {
        "id": "5657943f"
      },
      "source": [
        "## Predicting Sales\n",
        "\n",
        "The next feature in the list is the Sales column. This is our **target variable** (i.e., we are developing the model to predict the variable)."
      ]
    },
    {
      "cell_type": "markdown",
      "id": "4210cd03",
      "metadata": {
        "id": "4210cd03"
      },
      "source": [
        "### Histogram to study Sales feature"
      ]
    },
    {
      "cell_type": "code",
      "execution_count": null,
      "id": "4be8abd5",
      "metadata": {
        "id": "4be8abd5",
        "outputId": "8faa2070-6489-49c9-8283-d560fad7d96b"
      },
      "outputs": [
        {
          "data": {
            "text/plain": [
              "Text(0, 0.5, 'frequency')"
            ]
          },
          "execution_count": 34,
          "metadata": {},
          "output_type": "execute_result"
        },
        {
          "data": {
            "image/png": "[encoded data removed]",
            "text/plain": [
              "<Figure size 720x360 with 1 Axes>"
            ]
          },
          "metadata": {
            "needs_background": "light"
          },
          "output_type": "display_data"
        }
      ],
      "source": [
        "plt.figure(figsize=(10,5))\n",
        "plt.hist(df_new['Sales'])\n",
        "plt.title('Histogram for Sales')\n",
        "plt.xlabel('bins'); plt.ylabel('frequency')"
      ]
    },
    {
      "cell_type": "markdown",
      "id": "0b52b17c",
      "metadata": {
        "id": "0b52b17c"
      },
      "source": [
        "From the preceding plot, we can see that the data range is from 0 to 40,000, but there is barely any data after 20,000. This indicates that most of the stores have sales in the range 0–20,000, and just a few stores have sales greater than 20,000. It might be worthwhile to remove these outliers, as it helps the model learn better."
      ]
    },
    {
      "cell_type": "markdown",
      "id": "11113d0a",
      "metadata": {
        "id": "11113d0a"
      },
      "source": [
        "## Exploring Numerical Colums\n",
        "\n",
        "visualize a histogram for all numeric\n",
        "columns within the dataset."
      ]
    },
    {
      "cell_type": "code",
      "execution_count": null,
      "id": "f4d47575",
      "metadata": {
        "scrolled": false,
        "id": "f4d47575",
        "outputId": "4a97b615-5dcd-4408-c84e-cd27421a2826"
      },
      "outputs": [
        {
          "data": {
            "image/png": "[encoded data removed]",
            "text/plain": [
              "<Figure size 1440x936 with 20 Axes>"
            ]
          },
          "metadata": {
            "needs_background": "light"
          },
          "output_type": "display_data"
        }
      ],
      "source": [
        "df_new.hist(figsize=(20,13));"
      ]
    },
    {
      "cell_type": "markdown",
      "id": "78503bef",
      "metadata": {
        "id": "78503bef"
      },
      "source": [
        "Let’s analyze the results from the histogram showcased in the preceding illustration. We can see that the features Promo, Promo2, SchoolHoliday, and Open are actually binary categorical features: they represent two possible values similar to gender: Male or Female. Therefore, these are actually categorical features but already encoded as numeric columns.This is great; we won’t need to further process them, as DL models understand only numeric values. <br><br>\n",
        "Promo2 is well distributed between the two distinct values, whereas\n",
        "Promo has more records for ‘1’ and Open has most of the store records\n",
        "as ‘1’. The distribution between the values for ‘Open’ makes sense, as the\n",
        "stores will be open for most days except state holidays. <br><br>\n",
        "The next set of numeric variables are Promo2SinceWeek and Promo2SinceYear; these show a relatively well-distributed feature. The rest of the histograms are pretty much self-explanatory.\n",
        "\n"
      ]
    },
    {
      "cell_type": "markdown",
      "id": "b3ab03f6",
      "metadata": {
        "id": "b3ab03f6"
      },
      "source": [
        "# DATA ENGINEERING"
      ]
    },
    {
      "cell_type": "markdown",
      "id": "10df7be2",
      "metadata": {
        "id": "10df7be2"
      },
      "source": [
        "## Data Imputation of  Missing Values"
      ]
    },
    {
      "cell_type": "code",
      "execution_count": null,
      "id": "0430fcfe",
      "metadata": {
        "id": "0430fcfe",
        "outputId": "4755b47c-0c08-4b00-b2f3-fdd8f597a68c"
      },
      "outputs": [
        {
          "data": {
            "text/plain": [
              "Store                         0.000000\n",
              "DayOfWeek                     0.000000\n",
              "Date                          0.000000\n",
              "Sales                         0.000000\n",
              "Customers                     0.000000\n",
              "Open                          0.000000\n",
              "Promo                         0.000000\n",
              "StateHoliday                  0.000000\n",
              "SchoolHoliday                 0.000000\n",
              "StoreType                     0.000000\n",
              "Assortment                    0.000000\n",
              "CompetitionDistance           0.259730\n",
              "CompetitionOpenSinceMonth    31.787764\n",
              "CompetitionOpenSinceYear     31.787764\n",
              "Promo2                        0.000000\n",
              "Promo2SinceWeek              49.943620\n",
              "Promo2SinceYear              49.943620\n",
              "PromoInterval                49.943620\n",
              "dtype: float64"
            ]
          },
          "execution_count": 72,
          "metadata": {},
          "output_type": "execute_result"
        }
      ],
      "source": [
        "# PERCENTAGE OF MISSING VALUES\n",
        "df_new.isnull().sum()/df_new.shape[0] * 100"
      ]
    },
    {
      "cell_type": "markdown",
      "id": "11fad84c",
      "metadata": {
        "id": "11fad84c"
      },
      "source": [
        "We can see that Promo2SinceWeek,\n",
        "Promo2SinceYear, PromoInterval, CompetitionOpenSinceMonth, and\n",
        "CompetitionOpenSinceYear have over 30% null values. This is a big\n",
        "loss and there is nothing much we can do to fix this. As a rule of thumb,\n",
        "if there is a loss of anything between 0% and 10%, we can make a few\n",
        "attempts to fill the missing points and use the feature. But, 30% technically\n",
        "becomes beyond the usable range. On the other hand, we can see\n",
        "CompetitionDistance has around 0.25% missing values. This would much\n",
        "easier to handle and fix.\n",
        "\n",
        "### Impute 'CompetitiveDistance' values with the mode"
      ]
    },
    {
      "cell_type": "code",
      "execution_count": null,
      "id": "ca03e69b",
      "metadata": {
        "id": "ca03e69b"
      },
      "outputs": [],
      "source": [
        "df_new['CompetitionDistance'] = df_new['CompetitionDistance'].fillna(df_new['CompetitionDistance'].mode()[0])"
      ]
    },
    {
      "cell_type": "markdown",
      "id": "89522a73",
      "metadata": {
        "id": "89522a73"
      },
      "source": [
        "## Drop columns with more that 30% missing values"
      ]
    },
    {
      "cell_type": "code",
      "execution_count": null,
      "id": "2d499964",
      "metadata": {
        "scrolled": false,
        "id": "2d499964"
      },
      "outputs": [],
      "source": [
        "df_new = df_new.drop([ 'CompetitionOpenSinceMonth', 'CompetitionOpenSinceYear','Promo2SinceWeek', \n",
        "                      'Promo2SinceYear', 'PromoInterval'], axis=1)"
      ]
    },
    {
      "cell_type": "code",
      "execution_count": null,
      "id": "d60eac94",
      "metadata": {
        "id": "d60eac94",
        "outputId": "9bd4b61e-e0dc-4368-973e-2259a1adcc55"
      },
      "outputs": [
        {
          "data": {
            "text/plain": [
              "Store                    int64\n",
              "DayOfWeek                int64\n",
              "Sales                    int64\n",
              "Customers                int64\n",
              "Open                     int64\n",
              "Promo                    int64\n",
              "StateHoliday            object\n",
              "SchoolHoliday            int64\n",
              "StoreType               object\n",
              "Assortment              object\n",
              "CompetitionDistance    float64\n",
              "Promo2                   int64\n",
              "Month                    int64\n",
              "Quarter                  int64\n",
              "Year                    UInt32\n",
              "Day                      int64\n",
              "Week                    UInt32\n",
              "Season                  object\n",
              "dtype: object"
            ]
          },
          "execution_count": 77,
          "metadata": {},
          "output_type": "execute_result"
        }
      ],
      "source": [
        "df_new.dtypes"
      ]
    },
    {
      "cell_type": "markdown",
      "id": "2c7b4c1c",
      "metadata": {
        "id": "2c7b4c1c"
      },
      "source": [
        "## Drop 'Date' Feature and Change 'Year' and 'Week' dtypes to int64"
      ]
    },
    {
      "cell_type": "code",
      "execution_count": null,
      "id": "44c685a8",
      "metadata": {
        "id": "44c685a8"
      },
      "outputs": [],
      "source": [
        "df_new = df_new.drop(['Date'], axis=1)"
      ]
    },
    {
      "cell_type": "code",
      "execution_count": null,
      "id": "ca0d6ec0",
      "metadata": {
        "id": "ca0d6ec0"
      },
      "outputs": [],
      "source": [
        "df_new['Year'] = df_new.Year.astype('int64')\n",
        "df_new['Week'] = df_new.Week.astype('int64')"
      ]
    },
    {
      "cell_type": "markdown",
      "id": "50a03121",
      "metadata": {
        "id": "50a03121"
      },
      "source": [
        "# Study with  Categorical Features"
      ]
    },
    {
      "cell_type": "markdown",
      "id": "9e809fe8",
      "metadata": {
        "id": "9e809fe8"
      },
      "source": [
        "The best way to study a categorical variable is to study the impact on the target variable from its individual\n",
        "classes. We can do this by plotting the mean sales across different values of\n",
        "the classes in the feature."
      ]
    },
    {
      "cell_type": "code",
      "execution_count": null,
      "id": "fb329d46",
      "metadata": {
        "scrolled": true,
        "id": "fb329d46",
        "outputId": "79299d10-c5bd-4385-8d0b-e1f05abc3539"
      },
      "outputs": [
        {
          "data": {
            "text/plain": [
              "Index(['StateHoliday', 'StoreType', 'Assortment', 'Season'], dtype='object')"
            ]
          },
          "execution_count": 13,
          "metadata": {},
          "output_type": "execute_result"
        }
      ],
      "source": [
        "# CATEGORICAL COLUMNS\n",
        "df_new.columns[df_new.dtypes=='O']"
      ]
    },
    {
      "cell_type": "markdown",
      "id": "9576c3cd",
      "metadata": {
        "id": "9576c3cd"
      },
      "source": [
        "## Create the bar plot for Average Sales across different Seasons"
      ]
    },
    {
      "cell_type": "code",
      "execution_count": null,
      "id": "fdbc4794",
      "metadata": {
        "id": "fdbc4794"
      },
      "outputs": [],
      "source": [
        "sns.set(style='whitegrid')"
      ]
    },
    {
      "cell_type": "code",
      "execution_count": null,
      "id": "8501997b",
      "metadata": {
        "id": "8501997b",
        "outputId": "0ac975bf-9eb4-4fae-e51e-b5b0251991b3"
      },
      "outputs": [
        {
          "data": {
            "text/plain": [
              "<AxesSubplot:xlabel='Season', ylabel='Sales'>"
            ]
          },
          "execution_count": 43,
          "metadata": {},
          "output_type": "execute_result"
        },
        {
          "data": {
            "image/png": "[encoded data removed]",
            "text/plain": [
              "<Figure size 432x288 with 1 Axes>"
            ]
          },
          "metadata": {},
          "output_type": "display_data"
        }
      ],
      "source": [
        "\n",
        "ax = sns.barplot(x='Season', y='Sales', data=df_new, estimator=np.size)\n",
        "ax"
      ]
    },
    {
      "cell_type": "markdown",
      "id": "19821331",
      "metadata": {
        "id": "19821331"
      },
      "source": [
        "## #Create the bar plot for Average Sales across different Assortments"
      ]
    },
    {
      "cell_type": "code",
      "execution_count": null,
      "id": "07671341",
      "metadata": {
        "scrolled": true,
        "id": "07671341",
        "outputId": "5ce06b9b-53f9-47c6-f916-02a8528b2d70"
      },
      "outputs": [
        {
          "data": {
            "image/png": "[encoded data removed]",
            "text/plain": [
              "<Figure size 432x288 with 1 Axes>"
            ]
          },
          "metadata": {},
          "output_type": "display_data"
        }
      ],
      "source": [
        "ax = sns.barplot(x=\"Assortment\", y=\"Sales\", data=df_new,estimator=np.size)"
      ]
    },
    {
      "cell_type": "markdown",
      "id": "ccdb20d5",
      "metadata": {
        "id": "ccdb20d5"
      },
      "source": [
        "## Create the bar plot for Average Sales across different Store Types"
      ]
    },
    {
      "cell_type": "code",
      "execution_count": null,
      "id": "15c013a9",
      "metadata": {
        "id": "15c013a9",
        "outputId": "c3328ca6-d2b0-49be-bb4f-ee8819586f44"
      },
      "outputs": [
        {
          "data": {
            "text/plain": [
              "<AxesSubplot:xlabel='StoreType', ylabel='Sales'>"
            ]
          },
          "execution_count": 49,
          "metadata": {},
          "output_type": "execute_result"
        },
        {
          "data": {
            "image/png": "[encoded data removed]",
            "text/plain": [
              "<Figure size 432x288 with 1 Axes>"
            ]
          },
          "metadata": {},
          "output_type": "display_data"
        }
      ],
      "source": [
        "ax = sns.barplot(x=\"StoreType\", y=\"Sales\", data=df_new, estimator=np.size)\n",
        "ax"
      ]
    },
    {
      "cell_type": "markdown",
      "id": "6cd4d7ac",
      "metadata": {
        "id": "6cd4d7ac"
      },
      "source": [
        "**We can notice that the distribution of data points across different\n",
        "classes within a category is skewed. A simple check on StoreType and\n",
        "Assortment reveals that b has a significantly lower number of stores or\n",
        "data points in the dataset**"
      ]
    },
    {
      "cell_type": "markdown",
      "id": "377552c7",
      "metadata": {
        "id": "377552c7"
      },
      "source": [
        "### All categorical features stored as text columns need to be converted to a one-hot encoded form for the model training data.\n"
      ]
    },
    {
      "cell_type": "code",
      "execution_count": null,
      "id": "1bcd5a25",
      "metadata": {
        "id": "1bcd5a25",
        "outputId": "79369e83-aab9-42b9-89d0-af3b9a862431"
      },
      "outputs": [
        {
          "data": {
            "text/plain": [
              "Store                           int64\n",
              "DayOfWeek                       int64\n",
              "Date                   datetime64[ns]\n",
              "Sales                           int64\n",
              "Customers                       int64\n",
              "Open                            int64\n",
              "Promo                           int64\n",
              "StateHoliday                   object\n",
              "SchoolHoliday                   int64\n",
              "StoreType                      object\n",
              "Assortment                     object\n",
              "CompetitionDistance           float64\n",
              "Promo2                          int64\n",
              "Month                           int64\n",
              "Quarter                         int64\n",
              "Year                           UInt32\n",
              "Day                             int64\n",
              "Week                           UInt32\n",
              "Season                         object\n",
              "dtype: object"
            ]
          },
          "execution_count": 67,
          "metadata": {},
          "output_type": "execute_result"
        }
      ],
      "source": [
        "df_new.dtypes"
      ]
    },
    {
      "cell_type": "code",
      "execution_count": null,
      "id": "942cb95c",
      "metadata": {
        "scrolled": false,
        "id": "942cb95c",
        "outputId": "48a4cb64-16f0-4013-ae74-f7a0c51cf98e"
      },
      "outputs": [
        {
          "data": {
            "text/plain": [
              "Index(['Store', 'DayOfWeek', 'Sales', 'Customers', 'Open', 'Promo',\n",
              "       'SchoolHoliday', 'Promo2', 'Month', 'Quarter', 'Day'],\n",
              "      dtype='object')"
            ]
          },
          "execution_count": 64,
          "metadata": {},
          "output_type": "execute_result"
        }
      ],
      "source": [
        "df_new.columns[df_new.dtypes=='int64']"
      ]
    },
    {
      "cell_type": "code",
      "execution_count": null,
      "id": "65554b11",
      "metadata": {
        "scrolled": true,
        "id": "65554b11",
        "outputId": "9a1f9e1b-f822-49e6-832b-a143c61a1e69"
      },
      "outputs": [
        {
          "data": {
            "text/plain": [
              "Index(['CompetitionDistance'], dtype='object')"
            ]
          },
          "execution_count": 62,
          "metadata": {},
          "output_type": "execute_result"
        }
      ],
      "source": [
        "df_new.columns[df_new.dtypes=='float']"
      ]
    },
    {
      "cell_type": "code",
      "execution_count": null,
      "id": "0c78e4b1",
      "metadata": {
        "id": "0c78e4b1",
        "outputId": "22fa7fae-a40a-45bf-8fe4-0a0f39e6f3d8"
      },
      "outputs": [
        {
          "data": {
            "text/plain": [
              "Index(['StateHoliday', 'StoreType', 'Assortment', 'Season'], dtype='object')"
            ]
          },
          "execution_count": 80,
          "metadata": {},
          "output_type": "execute_result"
        }
      ],
      "source": [
        "df_new.columns[df_new.dtypes=='O']"
      ]
    },
    {
      "cell_type": "markdown",
      "id": "353d4d23",
      "metadata": {
        "id": "353d4d23"
      },
      "source": [
        "##  Convert 'StateHoliday' Feature to numerical"
      ]
    },
    {
      "cell_type": "code",
      "execution_count": null,
      "id": "5d27f4c6",
      "metadata": {
        "id": "5d27f4c6",
        "outputId": "781ac51a-6608-4473-81b2-2bc593eda92a"
      },
      "outputs": [
        {
          "data": {
            "text/plain": [
              "array(['0', 'a', 'b', 'c'], dtype=object)"
            ]
          },
          "execution_count": 14,
          "metadata": {},
          "output_type": "execute_result"
        }
      ],
      "source": [
        "df_new.StateHoliday.unique()"
      ]
    },
    {
      "cell_type": "code",
      "execution_count": null,
      "id": "ef587d46",
      "metadata": {
        "id": "ef587d46"
      },
      "outputs": [],
      "source": [
        "df_new['StateHoliday'] = np.where(df_new['StateHoliday'] == '0', 0, 1)"
      ]
    },
    {
      "cell_type": "code",
      "execution_count": null,
      "id": "3ee8a0f9",
      "metadata": {
        "id": "3ee8a0f9"
      },
      "outputs": [],
      "source": [
        "df_new.StateHoliday = df_new.StateHoliday.astype('int64')"
      ]
    },
    {
      "cell_type": "code",
      "execution_count": null,
      "id": "4b132a2a",
      "metadata": {
        "id": "4b132a2a",
        "outputId": "0742908b-c2ee-42c5-f73b-45b2e6f6ddcb"
      },
      "outputs": [
        {
          "data": {
            "text/plain": [
              "array([dtype('int64'), dtype('O'), dtype('float64')], dtype=object)"
            ]
          },
          "execution_count": 17,
          "metadata": {},
          "output_type": "execute_result"
        }
      ],
      "source": [
        "df_new.dtypes.unique()"
      ]
    },
    {
      "cell_type": "code",
      "execution_count": null,
      "id": "a02a8c7e",
      "metadata": {
        "scrolled": true,
        "id": "a02a8c7e"
      },
      "outputs": [],
      "source": [
        "num_columns =set(df_new.columns[df_new.dtypes=='int64']).union(set(df_new.columns[df_new.dtypes=='float64']))"
      ]
    },
    {
      "cell_type": "code",
      "execution_count": null,
      "id": "0d5b050c",
      "metadata": {
        "id": "0d5b050c"
      },
      "outputs": [],
      "source": [
        "cat_columns = df_new.columns[df_new.dtypes=='O'] "
      ]
    },
    {
      "cell_type": "markdown",
      "id": "04ce4af3",
      "metadata": {
        "id": "04ce4af3"
      },
      "source": [
        "## Label and One Hot Encode Categorical Features"
      ]
    },
    {
      "cell_type": "code",
      "execution_count": null,
      "id": "be9b7f93",
      "metadata": {
        "id": "be9b7f93"
      },
      "outputs": [],
      "source": [
        "numerical_columns = num_columns\n",
        "categorical_columns = cat_columns"
      ]
    },
    {
      "cell_type": "code",
      "execution_count": null,
      "id": "9786917e",
      "metadata": {
        "id": "9786917e"
      },
      "outputs": [],
      "source": [
        "num_df = df_new[numerical_columns]"
      ]
    },
    {
      "cell_type": "code",
      "execution_count": null,
      "id": "22a24f14",
      "metadata": {
        "id": "22a24f14"
      },
      "outputs": [],
      "source": [
        "# Function that returns a dataframe with one hot encoded features\n",
        "\n",
        "def create_ohe (df, col):\n",
        "    le = LabelEncoder()\n",
        "    a = le.fit_transform(df_new[col]).reshape(-1,1)\n",
        "    ohe = OneHotEncoder(sparse=False)\n",
        "    column_names  = [col+ \"_\"+ str(i) for i in le.classes_]\n",
        "    return(pd.DataFrame(ohe.fit_transform(a),columns =column_names))"
      ]
    },
    {
      "cell_type": "code",
      "execution_count": null,
      "id": "9da871e1",
      "metadata": {
        "id": "9da871e1"
      },
      "outputs": [],
      "source": [
        "#Create a list of dataframes created by the function above for each categorical column\n",
        "\n",
        "cat_df  = [create_ohe(df_new, col) for col in categorical_columns]"
      ]
    },
    {
      "cell_type": "code",
      "execution_count": null,
      "id": "524fbae0",
      "metadata": {
        "id": "524fbae0"
      },
      "outputs": [],
      "source": [
        "# concatenate the dataframes in the list into one dataframe\n",
        "cat_df  = pd.concat(cat_df, axis=1)"
      ]
    },
    {
      "cell_type": "code",
      "execution_count": null,
      "id": "a7af5146",
      "metadata": {
        "id": "a7af5146"
      },
      "outputs": [],
      "source": [
        "# Finally, concatenate the num_df and cat_df together to make a final dataframe\n",
        "final_df = pd.concat([num_df, cat_df], axis=1)"
      ]
    },
    {
      "cell_type": "code",
      "execution_count": null,
      "id": "a3e2066f",
      "metadata": {
        "scrolled": true,
        "id": "a3e2066f",
        "outputId": "6f18573e-c8c6-4016-8125-ebb0c54384fc"
      },
      "outputs": [
        {
          "data": {
            "text/plain": [
              "(1017209, 18)"
            ]
          },
          "execution_count": 33,
          "metadata": {},
          "output_type": "execute_result"
        }
      ],
      "source": [
        "df_new.shape"
      ]
    },
    {
      "cell_type": "code",
      "execution_count": null,
      "id": "a64b95c6",
      "metadata": {
        "id": "a64b95c6",
        "outputId": "8b1071ae-89dd-409a-b157-08d843591ed9"
      },
      "outputs": [
        {
          "data": {
            "text/plain": [
              "(1017209, 26)"
            ]
          },
          "execution_count": 34,
          "metadata": {},
          "output_type": "execute_result"
        }
      ],
      "source": [
        "final_df.shape"
      ]
    },
    {
      "cell_type": "code",
      "execution_count": null,
      "id": "39b9aa37",
      "metadata": {
        "scrolled": true,
        "id": "39b9aa37",
        "outputId": "c9b907fb-2df3-4a17-96e6-4f3327db9248"
      },
      "outputs": [
        {
          "data": {
            "text/html": [
              "<div>\n",
              "<style scoped>\n",
              "    .dataframe tbody tr th:only-of-type {\n",
              "        vertical-align: middle;\n",
              "    }\n",
              "\n",
              "    .dataframe tbody tr th {\n",
              "        vertical-align: top;\n",
              "    }\n",
              "\n",
              "    .dataframe thead th {\n",
              "        text-align: right;\n",
              "    }\n",
              "</style>\n",
              "<table border=\"1\" class=\"dataframe\">\n",
              "  <thead>\n",
              "    <tr style=\"text-align: right;\">\n",
              "      <th></th>\n",
              "      <th>Promo2</th>\n",
              "      <th>Customers</th>\n",
              "      <th>CompetitionDistance</th>\n",
              "      <th>Week</th>\n",
              "      <th>Sales</th>\n",
              "      <th>Year</th>\n",
              "      <th>DayOfWeek</th>\n",
              "      <th>StateHoliday</th>\n",
              "      <th>Quarter</th>\n",
              "      <th>Month</th>\n",
              "      <th>...</th>\n",
              "      <th>StoreType_b</th>\n",
              "      <th>StoreType_c</th>\n",
              "      <th>StoreType_d</th>\n",
              "      <th>Assortment_a</th>\n",
              "      <th>Assortment_b</th>\n",
              "      <th>Assortment_c</th>\n",
              "      <th>Season_Fall</th>\n",
              "      <th>Season_Spring</th>\n",
              "      <th>Season_Summer</th>\n",
              "      <th>Season_Winter</th>\n",
              "    </tr>\n",
              "  </thead>\n",
              "  <tbody>\n",
              "    <tr>\n",
              "      <th>0</th>\n",
              "      <td>0</td>\n",
              "      <td>555</td>\n",
              "      <td>1270.0</td>\n",
              "      <td>31</td>\n",
              "      <td>5263</td>\n",
              "      <td>2015</td>\n",
              "      <td>5</td>\n",
              "      <td>0</td>\n",
              "      <td>3</td>\n",
              "      <td>7</td>\n",
              "      <td>...</td>\n",
              "      <td>0.0</td>\n",
              "      <td>1.0</td>\n",
              "      <td>0.0</td>\n",
              "      <td>1.0</td>\n",
              "      <td>0.0</td>\n",
              "      <td>0.0</td>\n",
              "      <td>0.0</td>\n",
              "      <td>0.0</td>\n",
              "      <td>1.0</td>\n",
              "      <td>0.0</td>\n",
              "    </tr>\n",
              "    <tr>\n",
              "      <th>1</th>\n",
              "      <td>0</td>\n",
              "      <td>546</td>\n",
              "      <td>1270.0</td>\n",
              "      <td>31</td>\n",
              "      <td>5020</td>\n",
              "      <td>2015</td>\n",
              "      <td>4</td>\n",
              "      <td>0</td>\n",
              "      <td>3</td>\n",
              "      <td>7</td>\n",
              "      <td>...</td>\n",
              "      <td>0.0</td>\n",
              "      <td>1.0</td>\n",
              "      <td>0.0</td>\n",
              "      <td>1.0</td>\n",
              "      <td>0.0</td>\n",
              "      <td>0.0</td>\n",
              "      <td>0.0</td>\n",
              "      <td>0.0</td>\n",
              "      <td>1.0</td>\n",
              "      <td>0.0</td>\n",
              "    </tr>\n",
              "    <tr>\n",
              "      <th>2</th>\n",
              "      <td>0</td>\n",
              "      <td>523</td>\n",
              "      <td>1270.0</td>\n",
              "      <td>31</td>\n",
              "      <td>4782</td>\n",
              "      <td>2015</td>\n",
              "      <td>3</td>\n",
              "      <td>0</td>\n",
              "      <td>3</td>\n",
              "      <td>7</td>\n",
              "      <td>...</td>\n",
              "      <td>0.0</td>\n",
              "      <td>1.0</td>\n",
              "      <td>0.0</td>\n",
              "      <td>1.0</td>\n",
              "      <td>0.0</td>\n",
              "      <td>0.0</td>\n",
              "      <td>0.0</td>\n",
              "      <td>0.0</td>\n",
              "      <td>1.0</td>\n",
              "      <td>0.0</td>\n",
              "    </tr>\n",
              "    <tr>\n",
              "      <th>3</th>\n",
              "      <td>0</td>\n",
              "      <td>560</td>\n",
              "      <td>1270.0</td>\n",
              "      <td>31</td>\n",
              "      <td>5011</td>\n",
              "      <td>2015</td>\n",
              "      <td>2</td>\n",
              "      <td>0</td>\n",
              "      <td>3</td>\n",
              "      <td>7</td>\n",
              "      <td>...</td>\n",
              "      <td>0.0</td>\n",
              "      <td>1.0</td>\n",
              "      <td>0.0</td>\n",
              "      <td>1.0</td>\n",
              "      <td>0.0</td>\n",
              "      <td>0.0</td>\n",
              "      <td>0.0</td>\n",
              "      <td>0.0</td>\n",
              "      <td>1.0</td>\n",
              "      <td>0.0</td>\n",
              "    </tr>\n",
              "    <tr>\n",
              "      <th>4</th>\n",
              "      <td>0</td>\n",
              "      <td>612</td>\n",
              "      <td>1270.0</td>\n",
              "      <td>31</td>\n",
              "      <td>6102</td>\n",
              "      <td>2015</td>\n",
              "      <td>1</td>\n",
              "      <td>0</td>\n",
              "      <td>3</td>\n",
              "      <td>7</td>\n",
              "      <td>...</td>\n",
              "      <td>0.0</td>\n",
              "      <td>1.0</td>\n",
              "      <td>0.0</td>\n",
              "      <td>1.0</td>\n",
              "      <td>0.0</td>\n",
              "      <td>0.0</td>\n",
              "      <td>0.0</td>\n",
              "      <td>0.0</td>\n",
              "      <td>1.0</td>\n",
              "      <td>0.0</td>\n",
              "    </tr>\n",
              "  </tbody>\n",
              "</table>\n",
              "<p>5 rows × 26 columns</p>\n",
              "</div>"
            ],
            "text/plain": [
              "   Promo2  Customers  CompetitionDistance  Week  Sales  Year  DayOfWeek  \\\n",
              "0       0        555               1270.0    31   5263  2015          5   \n",
              "1       0        546               1270.0    31   5020  2015          4   \n",
              "2       0        523               1270.0    31   4782  2015          3   \n",
              "3       0        560               1270.0    31   5011  2015          2   \n",
              "4       0        612               1270.0    31   6102  2015          1   \n",
              "\n",
              "   StateHoliday  Quarter  Month  ...  StoreType_b  StoreType_c  StoreType_d  \\\n",
              "0             0        3      7  ...          0.0          1.0          0.0   \n",
              "1             0        3      7  ...          0.0          1.0          0.0   \n",
              "2             0        3      7  ...          0.0          1.0          0.0   \n",
              "3             0        3      7  ...          0.0          1.0          0.0   \n",
              "4             0        3      7  ...          0.0          1.0          0.0   \n",
              "\n",
              "   Assortment_a  Assortment_b  Assortment_c  Season_Fall  Season_Spring  \\\n",
              "0           1.0           0.0           0.0          0.0            0.0   \n",
              "1           1.0           0.0           0.0          0.0            0.0   \n",
              "2           1.0           0.0           0.0          0.0            0.0   \n",
              "3           1.0           0.0           0.0          0.0            0.0   \n",
              "4           1.0           0.0           0.0          0.0            0.0   \n",
              "\n",
              "   Season_Summer  Season_Winter  \n",
              "0            1.0            0.0  \n",
              "1            1.0            0.0  \n",
              "2            1.0            0.0  \n",
              "3            1.0            0.0  \n",
              "4            1.0            0.0  \n",
              "\n",
              "[5 rows x 26 columns]"
            ]
          },
          "execution_count": 119,
          "metadata": {},
          "output_type": "execute_result"
        }
      ],
      "source": [
        "final_df.head()"
      ]
    },
    {
      "cell_type": "code",
      "execution_count": null,
      "id": "2ef08f09",
      "metadata": {
        "id": "2ef08f09"
      },
      "outputs": [],
      "source": [
        "target  = final_df.Sales"
      ]
    },
    {
      "cell_type": "code",
      "execution_count": null,
      "id": "14f39150",
      "metadata": {
        "id": "14f39150"
      },
      "outputs": [],
      "source": [
        "final_df = final_df.drop(['Sales'], axis=1)"
      ]
    },
    {
      "cell_type": "markdown",
      "id": "5bc6f4f5",
      "metadata": {
        "id": "5bc6f4f5"
      },
      "source": [
        "# Train_Test Split the final_df"
      ]
    },
    {
      "cell_type": "markdown",
      "id": "2d42dcf7",
      "metadata": {
        "id": "2d42dcf7"
      },
      "source": [
        "## train and test data"
      ]
    },
    {
      "cell_type": "code",
      "execution_count": null,
      "id": "46735e41",
      "metadata": {
        "id": "46735e41"
      },
      "outputs": [],
      "source": [
        "X_train, X_test, y_train, y_test = train_test_split(final_df, target,test_size=0.2,random_state=2021)"
      ]
    },
    {
      "cell_type": "markdown",
      "id": "40bde55c",
      "metadata": {
        "id": "40bde55c"
      },
      "source": [
        "## train and validation data"
      ]
    },
    {
      "cell_type": "code",
      "execution_count": null,
      "id": "da52620b",
      "metadata": {
        "id": "da52620b"
      },
      "outputs": [],
      "source": [
        "X_train, X_val, y_train, y_val = train_test_split(X_train, y_train,test_size=0.1,random_state=2021)"
      ]
    },
    {
      "cell_type": "markdown",
      "id": "d1860dbb",
      "metadata": {
        "id": "d1860dbb"
      },
      "source": [
        "# DEFINE MODEL BASELINE PERFORMANCE\n",
        "\n",
        "To define the model baseline performance, we should consider the mean\n",
        "of the target variable in the training dataset as the prediction for all test\n",
        "samples. The metric we shall use to perform this test is MAE (mean\n",
        "absolute error)."
      ]
    },
    {
      "cell_type": "code",
      "execution_count": null,
      "id": "1b932332",
      "metadata": {
        "id": "1b932332",
        "outputId": "e1047af8-bf0d-4b7e-a89c-015f15e0fe4a"
      },
      "outputs": [
        {
          "data": {
            "text/plain": [
              "5773.818972305593"
            ]
          },
          "execution_count": 39,
          "metadata": {},
          "output_type": "execute_result"
        }
      ],
      "source": [
        "#calculate the average score of the train datase\n",
        "average_sales = df_new.Sales.mean()\n",
        "average_sales"
      ]
    },
    {
      "cell_type": "markdown",
      "id": "f52ac43d",
      "metadata": {
        "id": "f52ac43d"
      },
      "source": [
        "Now, if we assume the average sales as the prediction for all samples in \n",
        "the test dataset, what does the MAE metric look like?\n",
        "\n",
        "\n"
      ]
    },
    {
      "cell_type": "code",
      "execution_count": null,
      "id": "93c79a7c",
      "metadata": {
        "id": "93c79a7c"
      },
      "outputs": [],
      "source": [
        "from sklearn.metrics import mean_absolute_error"
      ]
    },
    {
      "cell_type": "code",
      "execution_count": null,
      "id": "a3c12390",
      "metadata": {
        "id": "a3c12390",
        "outputId": "95ea7e14-8745-4273-f807-65c3dd4b91ef"
      },
      "outputs": [
        {
          "name": "stdout",
          "output_type": "stream",
          "text": [
            "MAE for Test Data: 2890.2419927938413\n"
          ]
        }
      ],
      "source": [
        "#Calculate the Mean Absolute Error on the test dataset\n",
        "print(\"MAE for Test Data:\",abs(y_test-average_sales).mean())"
      ]
    },
    {
      "cell_type": "markdown",
      "id": "6ec376fe",
      "metadata": {
        "id": "6ec376fe"
      },
      "source": [
        "So, our baseline performance is  **2890.24**.\n",
        "If our DL model doesn’t deliver results better (i.e., lower) than the\n",
        "baseline score, then it would barely add any value."
      ]
    },
    {
      "cell_type": "markdown",
      "id": "6e80e7fb",
      "metadata": {
        "id": "6e80e7fb"
      },
      "source": [
        "# DESIGNING THE DNN"
      ]
    },
    {
      "cell_type": "markdown",
      "id": "c2cd9e50",
      "metadata": {
        "id": "c2cd9e50"
      },
      "source": [
        "Additionally, we add a new optional configuration to the\n",
        "model to record the history of various metrics during the training process. This can be done by adding the callbacks parameter. We can use the history, post training, to visualize and\n",
        "understand the model’s learning curve."
      ]
    },
    {
      "cell_type": "code",
      "execution_count": null,
      "id": "967531d2",
      "metadata": {
        "id": "967531d2",
        "outputId": "85843a2f-4df5-4b84-bc14-b5e911957ea7"
      },
      "outputs": [
        {
          "name": "stdout",
          "output_type": "stream",
          "text": [
            "Epoch 1/10\n",
            "11444/11444 [==============================] - 71s 6ms/step - loss: 1611820.1250 - mean_absolute_error: 835.2662 - val_loss: 1368124.1250 - val_mean_absolute_error: 799.0347\n",
            "Epoch 2/10\n",
            "11444/11444 [==============================] - 68s 6ms/step - loss: 1136262.8750 - mean_absolute_error: 717.8991 - val_loss: 1117579.2500 - val_mean_absolute_error: 705.6403\n",
            "Epoch 3/10\n",
            "11444/11444 [==============================] - 70s 6ms/step - loss: 1066078.6250 - mean_absolute_error: 695.7086 - val_loss: 1196500.7500 - val_mean_absolute_error: 753.4298\n",
            "Epoch 4/10\n",
            "11444/11444 [==============================] - 68s 6ms/step - loss: 1011957.3125 - mean_absolute_error: 677.6421 - val_loss: 986843.6875 - val_mean_absolute_error: 681.4932\n",
            "Epoch 5/10\n",
            "11444/11444 [==============================] - 69s 6ms/step - loss: 955757.8125 - mean_absolute_error: 657.7277 - val_loss: 993192.8750 - val_mean_absolute_error: 671.5330\n",
            "Epoch 6/10\n",
            "11444/11444 [==============================] - 69s 6ms/step - loss: 903175.0000 - mean_absolute_error: 639.5146 - val_loss: 859401.0625 - val_mean_absolute_error: 627.8331\n",
            "Epoch 7/10\n",
            "11444/11444 [==============================] - 70s 6ms/step - loss: 858467.7500 - mean_absolute_error: 622.7498 - val_loss: 767273.6875 - val_mean_absolute_error: 594.0970\n",
            "Epoch 8/10\n",
            "11444/11444 [==============================] - 71s 6ms/step - loss: 813305.8750 - mean_absolute_error: 605.6273 - val_loss: 789381.7500 - val_mean_absolute_error: 610.1940\n",
            "Epoch 9/10\n",
            "11444/11444 [==============================] - 71s 6ms/step - loss: 775753.0625 - mean_absolute_error: 590.4068 - val_loss: 699402.9375 - val_mean_absolute_error: 561.2792\n",
            "Epoch 10/10\n",
            "11444/11444 [==============================] - 71s 6ms/step - loss: 738442.7500 - mean_absolute_error: 574.0230 - val_loss: 688166.8125 - val_mean_absolute_error: 557.7518\n",
            "6358/6358 [==============================] - 21s 3ms/step - loss: 684187.9375 - mean_absolute_error: 555.8443\n",
            "Metric  loss : 684187.94\n",
            "Metric  mean_absolute_error : 555.84\n"
          ]
        }
      ],
      "source": [
        "history = History()\n",
        "model = Sequential()\n",
        "\n",
        "model.add(Dense(350,input_dim = 25,activation=\"relu\"))\n",
        "model.add(Dense(350,activation=\"relu\"))\n",
        "model.add(Dense(350,activation=\"relu\"))\n",
        "model.add(Dense(350,activation=\"relu\"))\n",
        "model.add(Dense(350,activation=\"relu\"))\n",
        "model.add(Dense(1,activation = \"linear\"))\n",
        "model.compile(optimizer='adam',loss=\"mean_squared_error\",metrics=[\"mean_absolute_error\"])\n",
        "model.fit(X_train,y_train, validation_data=(X_val,y_val), epochs=10,batch_size=64,callbacks=[history]) \n",
        "\n",
        "# MODEL PERFORMANCE\n",
        "result = model.evaluate(X_test,y_test)\n",
        "\n",
        "for i in range(len(model.metrics_names)):\n",
        "     print(\"Metric \",model.metrics_names[i],\":\",str(round(result[i],2)))"
      ]
    },
    {
      "cell_type": "markdown",
      "id": "a3e3eaab",
      "metadata": {
        "id": "a3e3eaab"
      },
      "source": [
        "**we can see a positive performance. The model\n",
        "performance on the validation dataset was 577.75, which is way better than\n",
        "our baseline score. The Model performance on the test data is 555.84, which a relatively consistent performance** "
      ]
    },
    {
      "cell_type": "markdown",
      "id": "a2dc5035",
      "metadata": {
        "id": "a2dc5035"
      },
      "source": [
        " # Plotting the Loss Metric Across Epochs\n",
        "The model also stores the history of a few important parameters and\n",
        "metrics we configured for the model. To see what the model training\n",
        "process looked like, we can plot the loss metric across epochs and see the \n",
        "amount of reduction the model achieved with each epoch."
      ]
    },
    {
      "cell_type": "code",
      "execution_count": null,
      "id": "95462864",
      "metadata": {
        "id": "95462864",
        "outputId": "69dad5f4-488a-4f87-a784-ba4bf9672554"
      },
      "outputs": [
        {
          "data": {
            "image/png": "[encoded data removed]",
            "text/plain": [
              "<Figure size 720x360 with 1 Axes>"
            ]
          },
          "metadata": {
            "needs_background": "light"
          },
          "output_type": "display_data"
        }
      ],
      "source": [
        "plt.figure(figsize=(10,5))\n",
        "plt.plot(history.history['loss'])\n",
        "plt.plot(history.history['val_loss'])\n",
        "plt.title(\"Model's Training & Validation loss across epochs\")\n",
        "plt.ylabel('Loss')\n",
        "plt.xlabel('Epochs')\n",
        "plt.legend(['Train', 'Validation'], loc='upper right')\n",
        "plt.show()"
      ]
    },
    {
      "cell_type": "markdown",
      "id": "d66435d3",
      "metadata": {
        "id": "d66435d3"
      },
      "source": [
        "We can see that after a point the net decrease in loss was quite low but\n",
        "still relatively good. We could probably increase the number of epochs\n",
        "to test whether model performance is improving further. Of course, this\n",
        "comes with a significant amount of computation time for training, but\n",
        "once you have finalized the architecture for your model, you can increase\n",
        "the number of epochs for training and check if there was any further\n",
        "improvement."
      ]
    },
    {
      "cell_type": "code",
      "execution_count": null,
      "id": "ca80758c",
      "metadata": {
        "id": "ca80758c"
      },
      "outputs": [],
      "source": [
        ""
      ]
    }
  ],
  "metadata": {
    "kernelspec": {
      "display_name": "Python 3",
      "language": "python",
      "name": "python3"
    },
    "language_info": {
      "codemirror_mode": {
        "name": "ipython",
        "version": 3
      },
      "file_extension": ".py",
      "mimetype": "text/x-python",
      "name": "python",
      "nbconvert_exporter": "python",
      "pygments_lexer": "ipython3",
      "version": "3.8.8"
    },
    "colab": {
      "name": "ROSSMANN_Notebook.ipynb",
      "provenance": []
    }
  },
  "nbformat": 4,
  "nbformat_minor": 5
}